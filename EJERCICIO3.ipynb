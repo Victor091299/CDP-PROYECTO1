{
 "cells": [
  {
   "cell_type": "code",
   "execution_count": 1,
   "metadata": {},
   "outputs": [
    {
     "data": {
      "text/html": [
       "<div>\n",
       "<style scoped>\n",
       "    .dataframe tbody tr th:only-of-type {\n",
       "        vertical-align: middle;\n",
       "    }\n",
       "\n",
       "    .dataframe tbody tr th {\n",
       "        vertical-align: top;\n",
       "    }\n",
       "\n",
       "    .dataframe thead th {\n",
       "        text-align: right;\n",
       "    }\n",
       "</style>\n",
       "<table border=\"1\" class=\"dataframe\">\n",
       "  <thead>\n",
       "    <tr style=\"text-align: right;\">\n",
       "      <th></th>\n",
       "      <th>MESES</th>\n",
       "      <th>VENTAS</th>\n",
       "      <th>GASTOS</th>\n",
       "    </tr>\n",
       "  </thead>\n",
       "  <tbody>\n",
       "    <tr>\n",
       "      <th>0</th>\n",
       "      <td>ENERO</td>\n",
       "      <td>30500</td>\n",
       "      <td>22000</td>\n",
       "    </tr>\n",
       "    <tr>\n",
       "      <th>1</th>\n",
       "      <td>FEBRERO</td>\n",
       "      <td>35600</td>\n",
       "      <td>23450</td>\n",
       "    </tr>\n",
       "    <tr>\n",
       "      <th>2</th>\n",
       "      <td>MARZO</td>\n",
       "      <td>28300</td>\n",
       "      <td>18100</td>\n",
       "    </tr>\n",
       "    <tr>\n",
       "      <th>3</th>\n",
       "      <td>ABRIL</td>\n",
       "      <td>33900</td>\n",
       "      <td>35700</td>\n",
       "    </tr>\n",
       "    <tr>\n",
       "      <th>4</th>\n",
       "      <td>MAYO</td>\n",
       "      <td>42500</td>\n",
       "      <td>32450</td>\n",
       "    </tr>\n",
       "  </tbody>\n",
       "</table>\n",
       "</div>"
      ],
      "text/plain": [
       "     MESES  VENTAS  GASTOS\n",
       "0    ENERO   30500   22000\n",
       "1  FEBRERO   35600   23450\n",
       "2    MARZO   28300   18100\n",
       "3    ABRIL   33900   35700\n",
       "4     MAYO   42500   32450"
      ]
     },
     "execution_count": 1,
     "metadata": {},
     "output_type": "execute_result"
    }
   ],
   "source": [
    "#LO PRIMERO QUE HACEMOS ES IMPORTAR LA LIBRERIA PANDAS PARA HACER USO DE SUS FUNCIONES \n",
    "import pandas as pd\n",
    "#CREAMOS NUESTRO DICCIONARIO LLAMADO \"DIC1\" QUE ALAMCENARA LOS MESES,VENTAS Y GASTOS CON SUS RESPECTIVOS VALORES\n",
    "DIC1={\n",
    "\"MESES\":[\"ENERO\",\"FEBRERO\",\"MARZO\",\"ABRIL\",\"MAYO\"],\n",
    "\"VENTAS\":[30500,35600,28300,33900,42500],\n",
    "\"GASTOS\":[22000,23450,18100,35700,32450]\n",
    "}\n",
    "#AQUI ESTAMOS CREANDO NUESTRO DATAFRAME QUE SERA ALMACENADO EN LA VARIABLE\"df1\" Y TENDRÁ COMO INPUT \"DIC1\"\n",
    "df1=pd.DataFrame(DIC1) \n",
    "df1"
   ]
  },
  {
   "cell_type": "code",
   "execution_count": 2,
   "metadata": {},
   "outputs": [
    {
     "data": {
      "text/html": [
       "<div>\n",
       "<style scoped>\n",
       "    .dataframe tbody tr th:only-of-type {\n",
       "        vertical-align: middle;\n",
       "    }\n",
       "\n",
       "    .dataframe tbody tr th {\n",
       "        vertical-align: top;\n",
       "    }\n",
       "\n",
       "    .dataframe thead th {\n",
       "        text-align: right;\n",
       "    }\n",
       "</style>\n",
       "<table border=\"1\" class=\"dataframe\">\n",
       "  <thead>\n",
       "    <tr style=\"text-align: right;\">\n",
       "      <th></th>\n",
       "      <th>MESES</th>\n",
       "      <th>VENTAS</th>\n",
       "      <th>GASTOS</th>\n",
       "      <th>G/V*100</th>\n",
       "    </tr>\n",
       "  </thead>\n",
       "  <tbody>\n",
       "    <tr>\n",
       "      <th>0</th>\n",
       "      <td>ENERO</td>\n",
       "      <td>30500</td>\n",
       "      <td>22000</td>\n",
       "      <td>72.131148</td>\n",
       "    </tr>\n",
       "    <tr>\n",
       "      <th>1</th>\n",
       "      <td>FEBRERO</td>\n",
       "      <td>35600</td>\n",
       "      <td>23450</td>\n",
       "      <td>65.870787</td>\n",
       "    </tr>\n",
       "    <tr>\n",
       "      <th>2</th>\n",
       "      <td>MARZO</td>\n",
       "      <td>28300</td>\n",
       "      <td>18100</td>\n",
       "      <td>63.957597</td>\n",
       "    </tr>\n",
       "    <tr>\n",
       "      <th>3</th>\n",
       "      <td>ABRIL</td>\n",
       "      <td>33900</td>\n",
       "      <td>35700</td>\n",
       "      <td>105.309735</td>\n",
       "    </tr>\n",
       "    <tr>\n",
       "      <th>4</th>\n",
       "      <td>MAYO</td>\n",
       "      <td>42500</td>\n",
       "      <td>32450</td>\n",
       "      <td>76.352941</td>\n",
       "    </tr>\n",
       "  </tbody>\n",
       "</table>\n",
       "</div>"
      ],
      "text/plain": [
       "     MESES  VENTAS  GASTOS     G/V*100\n",
       "0    ENERO   30500   22000   72.131148\n",
       "1  FEBRERO   35600   23450   65.870787\n",
       "2    MARZO   28300   18100   63.957597\n",
       "3    ABRIL   33900   35700  105.309735\n",
       "4     MAYO   42500   32450   76.352941"
      ]
     },
     "execution_count": 2,
     "metadata": {},
     "output_type": "execute_result"
    }
   ],
   "source": [
    "#AQUI ESTAMOS AGREGANDO LA COLUMNA GASTOS / VENTAS *100 \n",
    "df1[\"G/V*100\"]=df1[\"GASTOS\"] / df1[\"VENTAS\"] * 100\n",
    "df1"
   ]
  },
  {
   "cell_type": "code",
   "execution_count": 3,
   "metadata": {},
   "outputs": [
    {
     "data": {
      "text/html": [
       "<div>\n",
       "<style scoped>\n",
       "    .dataframe tbody tr th:only-of-type {\n",
       "        vertical-align: middle;\n",
       "    }\n",
       "\n",
       "    .dataframe tbody tr th {\n",
       "        vertical-align: top;\n",
       "    }\n",
       "\n",
       "    .dataframe thead th {\n",
       "        text-align: right;\n",
       "    }\n",
       "</style>\n",
       "<table border=\"1\" class=\"dataframe\">\n",
       "  <thead>\n",
       "    <tr style=\"text-align: right;\">\n",
       "      <th></th>\n",
       "      <th>MESES</th>\n",
       "      <th>VENTAS</th>\n",
       "      <th>GASTOS</th>\n",
       "      <th>G/V*100</th>\n",
       "      <th>V &gt;=3000</th>\n",
       "    </tr>\n",
       "  </thead>\n",
       "  <tbody>\n",
       "    <tr>\n",
       "      <th>0</th>\n",
       "      <td>ENERO</td>\n",
       "      <td>30500</td>\n",
       "      <td>22000</td>\n",
       "      <td>72.131148</td>\n",
       "      <td>META SUPERADA</td>\n",
       "    </tr>\n",
       "    <tr>\n",
       "      <th>1</th>\n",
       "      <td>FEBRERO</td>\n",
       "      <td>35600</td>\n",
       "      <td>23450</td>\n",
       "      <td>65.870787</td>\n",
       "      <td>META SUPERADA</td>\n",
       "    </tr>\n",
       "    <tr>\n",
       "      <th>2</th>\n",
       "      <td>MARZO</td>\n",
       "      <td>28300</td>\n",
       "      <td>18100</td>\n",
       "      <td>63.957597</td>\n",
       "      <td>META NO SUPERADA</td>\n",
       "    </tr>\n",
       "    <tr>\n",
       "      <th>3</th>\n",
       "      <td>ABRIL</td>\n",
       "      <td>33900</td>\n",
       "      <td>35700</td>\n",
       "      <td>105.309735</td>\n",
       "      <td>META SUPERADA</td>\n",
       "    </tr>\n",
       "    <tr>\n",
       "      <th>4</th>\n",
       "      <td>MAYO</td>\n",
       "      <td>42500</td>\n",
       "      <td>32450</td>\n",
       "      <td>76.352941</td>\n",
       "      <td>META SUPERADA</td>\n",
       "    </tr>\n",
       "  </tbody>\n",
       "</table>\n",
       "</div>"
      ],
      "text/plain": [
       "     MESES  VENTAS  GASTOS     G/V*100          V >=3000\n",
       "0    ENERO   30500   22000   72.131148     META SUPERADA\n",
       "1  FEBRERO   35600   23450   65.870787     META SUPERADA\n",
       "2    MARZO   28300   18100   63.957597  META NO SUPERADA\n",
       "3    ABRIL   33900   35700  105.309735     META SUPERADA\n",
       "4     MAYO   42500   32450   76.352941     META SUPERADA"
      ]
     },
     "execution_count": 3,
     "metadata": {},
     "output_type": "execute_result"
    }
   ],
   "source": [
    "#AGREGANDO LA NUEVA COLUMNA V>=3000 \n",
    "#AQUI LE ESTAMOS DICIENDO QUE SI LA VENTA ES MAYOR O IGUAL A 30000 ESCRIBA \"META SUPERADA\" SINO ES ASI ENTONCES QUE ESCRIBA\n",
    "#\"META NO SUPERADA\"\n",
    "\n",
    "df1[\"V >=3000\"]=df1[\"VENTAS\"].apply(lambda x:\"META SUPERADA\" if x >=30000 else \"META NO SUPERADA\")\n",
    "df1"
   ]
  },
  {
   "cell_type": "code",
   "execution_count": 4,
   "metadata": {},
   "outputs": [
    {
     "data": {
      "text/html": [
       "<div>\n",
       "<style scoped>\n",
       "    .dataframe tbody tr th:only-of-type {\n",
       "        vertical-align: middle;\n",
       "    }\n",
       "\n",
       "    .dataframe tbody tr th {\n",
       "        vertical-align: top;\n",
       "    }\n",
       "\n",
       "    .dataframe thead th {\n",
       "        text-align: right;\n",
       "    }\n",
       "</style>\n",
       "<table border=\"1\" class=\"dataframe\">\n",
       "  <thead>\n",
       "    <tr style=\"text-align: right;\">\n",
       "      <th></th>\n",
       "      <th>MESES</th>\n",
       "      <th>VENTAS</th>\n",
       "      <th>GASTOS</th>\n",
       "      <th>G/V*100</th>\n",
       "      <th>V &gt;=3000</th>\n",
       "    </tr>\n",
       "  </thead>\n",
       "  <tbody>\n",
       "    <tr>\n",
       "      <th>2</th>\n",
       "      <td>MARZO</td>\n",
       "      <td>28300</td>\n",
       "      <td>18100</td>\n",
       "      <td>63.957597</td>\n",
       "      <td>META NO SUPERADA</td>\n",
       "    </tr>\n",
       "    <tr>\n",
       "      <th>3</th>\n",
       "      <td>ABRIL</td>\n",
       "      <td>33900</td>\n",
       "      <td>35700</td>\n",
       "      <td>105.309735</td>\n",
       "      <td>META SUPERADA</td>\n",
       "    </tr>\n",
       "    <tr>\n",
       "      <th>4</th>\n",
       "      <td>MAYO</td>\n",
       "      <td>42500</td>\n",
       "      <td>32450</td>\n",
       "      <td>76.352941</td>\n",
       "      <td>META SUPERADA</td>\n",
       "    </tr>\n",
       "  </tbody>\n",
       "</table>\n",
       "</div>"
      ],
      "text/plain": [
       "   MESES  VENTAS  GASTOS     G/V*100          V >=3000\n",
       "2  MARZO   28300   18100   63.957597  META NO SUPERADA\n",
       "3  ABRIL   33900   35700  105.309735     META SUPERADA\n",
       "4   MAYO   42500   32450   76.352941     META SUPERADA"
      ]
     },
     "execution_count": 4,
     "metadata": {},
     "output_type": "execute_result"
    }
   ],
   "source": [
    "#MOSTRANDO LOS VALORES DE LOS ULTIMOS TRES ULTIMOS REGISTROS\n",
    "df1.tail(3)"
   ]
  },
  {
   "cell_type": "code",
   "execution_count": 5,
   "metadata": {},
   "outputs": [
    {
     "data": {
      "text/plain": [
       "MESES     MARZOABRILMAYO\n",
       "VENTAS            104700\n",
       "dtype: object"
      ]
     },
     "execution_count": 5,
     "metadata": {},
     "output_type": "execute_result"
    }
   ],
   "source": [
    "#AQUI ESTAMOS INDICANDO LA SUMA DE LOS 3 ULTIMOS MESES\n",
    "df1.iloc[2:5,0:2].sum()"
   ]
  },
  {
   "cell_type": "code",
   "execution_count": 6,
   "metadata": {},
   "outputs": [
    {
     "data": {
      "text/html": [
       "<div>\n",
       "<style scoped>\n",
       "    .dataframe tbody tr th:only-of-type {\n",
       "        vertical-align: middle;\n",
       "    }\n",
       "\n",
       "    .dataframe tbody tr th {\n",
       "        vertical-align: top;\n",
       "    }\n",
       "\n",
       "    .dataframe thead th {\n",
       "        text-align: right;\n",
       "    }\n",
       "</style>\n",
       "<table border=\"1\" class=\"dataframe\">\n",
       "  <thead>\n",
       "    <tr style=\"text-align: right;\">\n",
       "      <th></th>\n",
       "      <th>MESES</th>\n",
       "      <th>VENTAS</th>\n",
       "      <th>GASTOS</th>\n",
       "      <th>G/V*100</th>\n",
       "      <th>V &gt;=3000</th>\n",
       "    </tr>\n",
       "  </thead>\n",
       "  <tbody>\n",
       "    <tr>\n",
       "      <th>0</th>\n",
       "      <td>ENERO</td>\n",
       "      <td>30500</td>\n",
       "      <td>22000</td>\n",
       "      <td>72.131148</td>\n",
       "      <td>META SUPERADA</td>\n",
       "    </tr>\n",
       "    <tr>\n",
       "      <th>1</th>\n",
       "      <td>FEBRERO</td>\n",
       "      <td>35600</td>\n",
       "      <td>23450</td>\n",
       "      <td>65.870787</td>\n",
       "      <td>META SUPERADA</td>\n",
       "    </tr>\n",
       "    <tr>\n",
       "      <th>2</th>\n",
       "      <td>MARZO</td>\n",
       "      <td>28300</td>\n",
       "      <td>18100</td>\n",
       "      <td>63.957597</td>\n",
       "      <td>META NO SUPERADA</td>\n",
       "    </tr>\n",
       "    <tr>\n",
       "      <th>3</th>\n",
       "      <td>ABRIL</td>\n",
       "      <td>33900</td>\n",
       "      <td>35700</td>\n",
       "      <td>105.309735</td>\n",
       "      <td>META SUPERADA</td>\n",
       "    </tr>\n",
       "  </tbody>\n",
       "</table>\n",
       "</div>"
      ],
      "text/plain": [
       "     MESES  VENTAS  GASTOS     G/V*100          V >=3000\n",
       "0    ENERO   30500   22000   72.131148     META SUPERADA\n",
       "1  FEBRERO   35600   23450   65.870787     META SUPERADA\n",
       "2    MARZO   28300   18100   63.957597  META NO SUPERADA\n",
       "3    ABRIL   33900   35700  105.309735     META SUPERADA"
      ]
     },
     "execution_count": 6,
     "metadata": {},
     "output_type": "execute_result"
    }
   ],
   "source": [
    "#AQUI ESTAMOS MOSTRANDO LOS CUATRO PRIMEROS REGISTROS\n",
    "df1.head(4)"
   ]
  },
  {
   "cell_type": "code",
   "execution_count": 7,
   "metadata": {},
   "outputs": [
    {
     "data": {
      "text/plain": [
       "MESES     FEBREROMARZOABRIL\n",
       "VENTAS                97800\n",
       "GASTOS                77250\n",
       "dtype: object"
      ]
     },
     "execution_count": 7,
     "metadata": {},
     "output_type": "execute_result"
    }
   ],
   "source": [
    "#AQUI ESTAMOS MOSTRANDO EL TOTAL DE GASTOS DE FEBRERO A ABRIL Y ADICIONAL EL TOTAL DE VENTAS DE FEBRERO A ABRIL TAMBIEN\n",
    "df1.iloc[1:4,0:3].sum()"
   ]
  }
 ],
 "metadata": {
  "kernelspec": {
   "display_name": "Python 3.10.5 64-bit",
   "language": "python",
   "name": "python3"
  },
  "language_info": {
   "codemirror_mode": {
    "name": "ipython",
    "version": 3
   },
   "file_extension": ".py",
   "mimetype": "text/x-python",
   "name": "python",
   "nbconvert_exporter": "python",
   "pygments_lexer": "ipython3",
   "version": "3.10.5"
  },
  "orig_nbformat": 4,
  "vscode": {
   "interpreter": {
    "hash": "bd5826f11f365f3eeb2955a7a8b83d69d5bdcbb91ab2b8c084f0ed96e8fb898f"
   }
  }
 },
 "nbformat": 4,
 "nbformat_minor": 2
}
